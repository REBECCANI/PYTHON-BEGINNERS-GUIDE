{
 "cells": [
  {
   "cell_type": "markdown",
   "id": "0de38034-e43b-406a-9b4b-afc1db21f5be",
   "metadata": {},
   "source": [
    "BMI CALCULATOR"
   ]
  },
  {
   "cell_type": "code",
   "execution_count": 128,
   "id": "11cc167c-81c7-4588-bec3-cf398342e458",
   "metadata": {},
   "outputs": [],
   "source": [
    "# BMI calculator\n",
    "name1 = \"Faela\"\n",
    "height_m1 = 2\n",
    "weight_kg1 = 30\n",
    "\n",
    "name2 = \"Esther\"\n",
    "height_m2 = 1.7\n",
    "weight_kg2 = 60\n",
    "\n",
    "name3 = \"Kevinr\"\n",
    "height_m3 = 1.8\n",
    "weight_kg3 = 55"
   ]
  },
  {
   "cell_type": "code",
   "execution_count": 129,
   "id": "f91c3906-074c-4581-8960-5d6363225ced",
   "metadata": {},
   "outputs": [],
   "source": [
    "def bmi_calculator(name, height_m, weight_kg):\n",
    "    bmi = weight_kg / (height_m ** 2)\n",
    "    print(\"bmi: \")\n",
    "    print(bmi)\n",
    "    if bmi < 25:\n",
    "        return name + \" is not overweight \"\n",
    "    else:\n",
    "        return name + \" is overweight\""
   ]
  },
  {
   "cell_type": "code",
   "execution_count": 130,
   "id": "43fc063b-4af0-4497-97f8-e0df4d188db5",
   "metadata": {},
   "outputs": [
    {
     "name": "stdout",
     "output_type": "stream",
     "text": [
      "bmi: \n",
      "7.5\n",
      "bmi: \n",
      "20.761245674740486\n",
      "bmi: \n",
      "16.975308641975307\n"
     ]
    }
   ],
   "source": [
    "person1= bmi_calculator(name1,height_m1,weight_kg1)\n",
    "person2= bmi_calculator(name2,height_m2,weight_kg2)\n",
    "person3= bmi_calculator(name3,height_m3,weight_kg3)"
   ]
  },
  {
   "cell_type": "code",
   "execution_count": 131,
   "id": "3004655d-e491-40d6-a4df-a812f9acc7d2",
   "metadata": {},
   "outputs": [
    {
     "name": "stdout",
     "output_type": "stream",
     "text": [
      "Faela is not overweight \n",
      "Esther is not overweight \n",
      "Kevinr is not overweight \n"
     ]
    }
   ],
   "source": [
    "print(person1)\n",
    "print(person2)\n",
    "print(person3)\n"
   ]
  },
  {
   "cell_type": "markdown",
   "id": "f0d622b8-4940-4dbf-807e-186c1b283349",
   "metadata": {},
   "source": [
    "FINDING THE SQUARE AND CUBE OF A NUMBER"
   ]
  },
  {
   "cell_type": "code",
   "execution_count": 72,
   "id": "75486aab-8d56-479f-b4db-de5154b7cc04",
   "metadata": {},
   "outputs": [
    {
     "data": {
      "text/plain": [
       "16"
      ]
     },
     "execution_count": 72,
     "metadata": {},
     "output_type": "execute_result"
    }
   ],
   "source": [
    "def square(num):\n",
    "    nbr = num*num\n",
    "    return nbr\n",
    "\n",
    "square(4)"
   ]
  },
  {
   "cell_type": "code",
   "execution_count": 73,
   "id": "bf8df240-50e0-4baf-bc25-b3534937276e",
   "metadata": {},
   "outputs": [
    {
     "data": {
      "text/plain": [
       "64"
      ]
     },
     "execution_count": 73,
     "metadata": {},
     "output_type": "execute_result"
    }
   ],
   "source": [
    "def cube(num):\n",
    "    nbr = num*num*num\n",
    "    return nbr\n",
    "\n",
    "cube(4)"
   ]
  },
  {
   "cell_type": "markdown",
   "id": "ba03d4f9-014d-4bc0-bef1-577833f08fde",
   "metadata": {},
   "source": [
    "USING NUMPY"
   ]
  },
  {
   "cell_type": "code",
   "execution_count": 76,
   "id": "60ef9395-1547-417b-b6d2-011831b09832",
   "metadata": {},
   "outputs": [
    {
     "name": "stdout",
     "output_type": "stream",
     "text": [
      "64\n"
     ]
    }
   ],
   "source": [
    "import numpy as np\n",
    "def cube(num):\n",
    "    nbr = np.array(num)\n",
    "    cube_nbr = np.power(nbr, 3)\n",
    "    return cube_nbr\n",
    "\n",
    "result = cube(4)\n",
    "print(result)"
   ]
  },
  {
   "cell_type": "markdown",
   "id": "7c87fa66-bf64-4b5c-8369-adc72c19ea9f",
   "metadata": {},
   "source": [
    "PYTHON LIBRARY FUNCTION"
   ]
  },
  {
   "cell_type": "code",
   "execution_count": 78,
   "id": "ab0c3e3a-873c-4970-9833-a9acf05f0646",
   "metadata": {},
   "outputs": [
    {
     "data": {
      "text/plain": [
       "3.0"
      ]
     },
     "execution_count": 78,
     "metadata": {},
     "output_type": "execute_result"
    }
   ],
   "source": [
    "import math\n",
    "sqrt= math.sqrt(9)\n",
    "sqrt"
   ]
  },
  {
   "cell_type": "code",
   "execution_count": 79,
   "id": "ae9ad7f6-17b8-4f8f-9a75-faef166f3693",
   "metadata": {},
   "outputs": [
    {
     "data": {
      "text/plain": [
       "16.0"
      ]
     },
     "execution_count": 79,
     "metadata": {},
     "output_type": "execute_result"
    }
   ],
   "source": [
    "power = math.pow(2,4)\n",
    "power"
   ]
  },
  {
   "cell_type": "markdown",
   "id": "b1a94de3-f17f-4a8e-8bdb-14b75c8a6c99",
   "metadata": {},
   "source": [
    "USER DEFINED FUNCTIONS"
   ]
  },
  {
   "cell_type": "code",
   "execution_count": 134,
   "id": "63c52566-88a6-4fb7-8fad-bfdca99c2e22",
   "metadata": {},
   "outputs": [
    {
     "name": "stdout",
     "output_type": "stream",
     "text": [
      "How are you Faela?\n"
     ]
    }
   ],
   "source": [
    "#Here, message has the default value of Hello. When greet() is called with only one argument, message uses its default value.\n",
    "def greet(name, message=\"Hello\"):\n",
    "    print(message, name)\n",
    "\n",
    "greet(\"Faela?\", \"How are you\")"
   ]
  },
  {
   "cell_type": "code",
   "execution_count": 83,
   "id": "40c16dd2-9e02-4f38-8246-b915a40fe012",
   "metadata": {},
   "outputs": [
    {
     "name": "stdout",
     "output_type": "stream",
     "text": [
      "Hello Josh\n"
     ]
    }
   ],
   "source": [
    "greet(\"Josh\")"
   ]
  },
  {
   "cell_type": "markdown",
   "id": "a4b52d29-4566-4f42-90c4-8dd4df8a7cf9",
   "metadata": {},
   "source": [
    "*args* and *kwargs*"
   ]
  },
  {
   "cell_type": "code",
   "execution_count": 84,
   "id": "4bf8e567-8a8d-4621-8263-7ea34aa82047",
   "metadata": {},
   "outputs": [
    {
     "data": {
      "text/plain": [
       "10"
      ]
     },
     "execution_count": 84,
     "metadata": {},
     "output_type": "execute_result"
    }
   ],
   "source": [
    "#args allows a function to take any number of positional arguments\n",
    "def sum_nbrs(*numbers):\n",
    "    return sum(numbers)\n",
    "\n",
    "sum_nbrs(1,5,4)"
   ]
  },
  {
   "cell_type": "code",
   "execution_count": 89,
   "id": "6213edb1-5491-4ded-b420-333155f7ee13",
   "metadata": {},
   "outputs": [
    {
     "name": "stdout",
     "output_type": "stream",
     "text": [
      "20\n"
     ]
    }
   ],
   "source": [
    "def product_nbrs(*numbers):\n",
    "    result = 1  \n",
    "    for num in numbers:\n",
    "        result *= num  \n",
    "    return result\n",
    "\n",
    "result = product_nbrs(1, 5, 4)\n",
    "print(result)  \n"
   ]
  },
  {
   "cell_type": "code",
   "execution_count": 85,
   "id": "a96e5c14-31ad-4be4-b4c6-4d523ddc6d2f",
   "metadata": {},
   "outputs": [
    {
     "name": "stdout",
     "output_type": "stream",
     "text": [
      "name: Sophia\n",
      "greeting: Hy\n"
     ]
    }
   ],
   "source": [
    "#**kwargs allows the function to accept any number of keyword arguments.\n",
    "def greet(**words):\n",
    "    for key, value in words.items():\n",
    "        print(f\"{key}: {value}\")\n",
    "\n",
    "greet(name=\"Sophia\", greeting=\"Hy\")\n",
    "    "
   ]
  },
  {
   "cell_type": "code",
   "execution_count": 86,
   "id": "c4921999-62f1-4792-b0e0-f4da82c20560",
   "metadata": {},
   "outputs": [
    {
     "name": "stdout",
     "output_type": "stream",
     "text": [
      "name: Alice\n",
      "age: 30\n",
      "city: New York\n"
     ]
    }
   ],
   "source": [
    "def my_function(**kwargs):\n",
    "    for key, value in kwargs.items():\n",
    "        print(f\"{key}: {value}\")\n",
    "\n",
    "my_function(name='Alice', age=30, city='New York')"
   ]
  },
  {
   "cell_type": "code",
   "execution_count": 90,
   "id": "fb660c57-d897-4967-a3cf-cce76cd9aab2",
   "metadata": {},
   "outputs": [
    {
     "name": "stdout",
     "output_type": "stream",
     "text": [
      "The factorial of 3 is 6\n"
     ]
    }
   ],
   "source": [
    "def factorial(x):\n",
    "    \"\"\"This is a recursive function\n",
    "    to find the factorial of an integer\"\"\"\n",
    "\n",
    "    if x == 1:\n",
    "        return 1\n",
    "    else:\n",
    "        return (x * factorial(x-1))\n",
    "\n",
    "\n",
    "num = 3\n",
    "print(\"The factorial of\", num, \"is\", factorial(num))"
   ]
  },
  {
   "cell_type": "code",
   "execution_count": 135,
   "id": "fd95fb0f-9ca4-48ea-b297-7ee305cf83b9",
   "metadata": {},
   "outputs": [
    {
     "name": "stdout",
     "output_type": "stream",
     "text": [
      "7\n"
     ]
    }
   ],
   "source": [
    "#Global keyword\n",
    "nbr = 5\n",
    "\n",
    "def add():\n",
    "\n",
    "    global nbr\n",
    " \n",
    "    nbr = nbr + 2 \n",
    "\n",
    "    print(nbr)\n",
    "\n",
    "add()"
   ]
  },
  {
   "cell_type": "code",
   "execution_count": 136,
   "id": "bcac63c1-8b36-4442-abe6-841cf6576328",
   "metadata": {},
   "outputs": [
    {
     "name": "stdout",
     "output_type": "stream",
     "text": [
      "Before calling inner_function():  10\n",
      "After calling inner_function():  10\n",
      "Outside both function:  20\n"
     ]
    }
   ],
   "source": [
    "def outer_function():\n",
    "    num = 10\n",
    "\n",
    "    def inner_function():\n",
    "        global num\n",
    "        num = 20\n",
    "    \n",
    "    print(\"Before calling inner_function(): \", num)\n",
    "    inner_function()\n",
    "    print(\"After calling inner_function(): \", num)\n",
    "\n",
    "outer_function()\n",
    "print(\"Outside both function: \", num)"
   ]
  },
  {
   "cell_type": "code",
   "execution_count": 137,
   "id": "beee7d5e-5e7b-4017-bb57-e9048a27b17a",
   "metadata": {},
   "outputs": [
    {
     "name": "stdout",
     "output_type": "stream",
     "text": [
      "Hello\n",
      "9\n",
      "12\n"
     ]
    }
   ],
   "source": [
    "a, b, c =  'Hello', 9, 12\n",
    "\n",
    "print (a)  \n",
    "print (b)  \n",
    "print (c) "
   ]
  },
  {
   "cell_type": "code",
   "execution_count": 91,
   "id": "6494fe2e-0b8a-4b71-a277-2200d8a3ab6c",
   "metadata": {},
   "outputs": [
    {
     "name": "stdout",
     "output_type": "stream",
     "text": [
      "The sum is 136\n"
     ]
    }
   ],
   "source": [
    "# Python program to find the sum of natural using recursive function\n",
    "\n",
    "def recur_sum(n):\n",
    "   if n <= 1:\n",
    "       return n\n",
    "   else:\n",
    "       return n + recur_sum(n-1)\n",
    "\n",
    "# change this value for a different result\n",
    "num = 16\n",
    "\n",
    "if num < 0:\n",
    "   print(\"Enter a positive number\")\n",
    "else:\n",
    "   print(\"The sum is\",recur_sum(num))\n"
   ]
  },
  {
   "cell_type": "raw",
   "id": "efbb829c-a41e-47b4-9efe-d3dc4abe5f73",
   "metadata": {},
   "source": [
    "If n is greater than 1, this part of the function gets executed. It recursively calls the recur_sum function with the argument n-1 and adds n to the result of the recursive call. This process continues until the base case is reached.\n",
    "Example Execution (for num = 16):\n",
    "The initial call is recur_sum(16).\n",
    "Since n is greater than 1, it goes to the else part and calculates 16 + recur_sum(15).\n",
    "recur_sum(15) in turn calculates 15 + recur_sum(14).\n",
    "This continues until recur_sum(1) is called, which returns 1 (base case).\n",
    "Now, the previous function calls are resolved: recur_sum(2) returns 2 + 1 = 3, recur_sum(3) returns 3 + 3 = 6, and so on.\n",
    "Ultimately, recur_sum(16) returns 16 + 15 + 14 + ... + 3 + 2 + 1, which is the sum of natural numbers up to 16."
   ]
  },
  {
   "cell_type": "code",
   "execution_count": 94,
   "id": "d366cf69-84f3-4c99-be26-e5126dc4b6bf",
   "metadata": {},
   "outputs": [
    {
     "name": "stdout",
     "output_type": "stream",
     "text": [
      "The sum is 136\n"
     ]
    }
   ],
   "source": [
    "# Python program to find the sum of natural using recursive function\n",
    "\n",
    "def aw(n):\n",
    "   if n <= 1:\n",
    "       return n\n",
    "   else:\n",
    "       return n + aw(n-1)\n",
    "\n",
    "# change this value for a different result\n",
    "num = 16\n",
    "\n",
    "if num < 0:\n",
    "   print(\"Enter a positive number\")\n",
    "else:\n",
    "   print(\"The sum is\",aw(num))\n"
   ]
  },
  {
   "cell_type": "markdown",
   "id": "6caee443-b932-4220-9b1a-583a4d636ce2",
   "metadata": {},
   "source": [
    "IF ELSE STATEMENTS"
   ]
  },
  {
   "cell_type": "code",
   "execution_count": 95,
   "id": "53744294-fd3a-42c2-a699-51b84257ba24",
   "metadata": {},
   "outputs": [
    {
     "name": "stdout",
     "output_type": "stream",
     "text": [
      "positive number\n"
     ]
    }
   ],
   "source": [
    "def number(nbr):\n",
    "    if nbr < 0:\n",
    "        print(\"negative number\")\n",
    "    else:\n",
    "        print(\"positive number\")\n",
    "number(90)"
   ]
  },
  {
   "cell_type": "code",
   "execution_count": 96,
   "id": "b72443e7-d7d5-4bb4-8d91-42427be4f00e",
   "metadata": {},
   "outputs": [
    {
     "name": "stdout",
     "output_type": "stream",
     "text": [
      "negative number\n"
     ]
    }
   ],
   "source": [
    "number(-90)"
   ]
  },
  {
   "cell_type": "markdown",
   "id": "36466908-f3b3-449b-bba6-9294648d026e",
   "metadata": {},
   "source": [
    "FOR AND WHILE LOOPS"
   ]
  },
  {
   "cell_type": "code",
   "execution_count": 98,
   "id": "d79c53f3-5dfb-45dd-bad2-83b39520acc2",
   "metadata": {},
   "outputs": [
    {
     "name": "stdout",
     "output_type": "stream",
     "text": [
      "Esther\n",
      "Honore\n",
      "Josh\n"
     ]
    }
   ],
   "source": [
    "names = ['Esther', 'Honore', 'Josh']\n",
    "for name in names:\n",
    "    print(name)"
   ]
  },
  {
   "cell_type": "code",
   "execution_count": 99,
   "id": "fb83f9d5-d881-4f80-b92c-6352d6c3ca03",
   "metadata": {},
   "outputs": [
    {
     "name": "stdout",
     "output_type": "stream",
     "text": [
      "P\n",
      "y\n",
      "t\n",
      "h\n",
      "o\n",
      "n\n"
     ]
    }
   ],
   "source": [
    "language = 'Python'\n",
    "for l in language:\n",
    "    print(l)"
   ]
  },
  {
   "cell_type": "code",
   "execution_count": 101,
   "id": "feaaed6b-ae78-4b1f-95cf-2e4196102779",
   "metadata": {},
   "outputs": [
    {
     "name": "stdout",
     "output_type": "stream",
     "text": [
      "0\n",
      "1\n",
      "2\n",
      "3\n",
      "4\n"
     ]
    }
   ],
   "source": [
    "values = range(0,5)\n",
    "for value in values:\n",
    "    print(value)"
   ]
  },
  {
   "cell_type": "code",
   "execution_count": 104,
   "id": "b41df29e-1a16-421d-8ee0-e0128fd7d730",
   "metadata": {},
   "outputs": [
    {
     "name": "stdout",
     "output_type": "stream",
     "text": [
      "0\n",
      "1\n",
      "2\n",
      "3\n",
      "4\n"
     ]
    }
   ],
   "source": [
    "#Using _ indicates that the loop is there for repetition and not for accessing the elements.\n",
    "values = range(0,5)\n",
    "for _ in values:\n",
    "    print(_)"
   ]
  },
  {
   "cell_type": "code",
   "execution_count": 113,
   "id": "f7287c82-8d26-42a3-a224-2bac2c9fdca7",
   "metadata": {},
   "outputs": [
    {
     "name": "stdout",
     "output_type": "stream",
     "text": [
      "0\n",
      "1\n",
      "2\n",
      "3\n",
      "4\n",
      "5\n",
      "6\n"
     ]
    }
   ],
   "source": [
    "nbr = 0\n",
    "\n",
    "while nbr <= 6:\n",
    "    print(nbr)\n",
    "    nbr = nbr + 1"
   ]
  },
  {
   "cell_type": "code",
   "execution_count": 2,
   "id": "155b5528-6e18-46ae-b948-500b4348033b",
   "metadata": {},
   "outputs": [
    {
     "name": "stdin",
     "output_type": "stream",
     "text": [
      "Enter a number:  7\n",
      "Enter a number:  4\n",
      "Enter a number:  4\n",
      "Enter a number:  4\n",
      "Enter a number:  0\n"
     ]
    },
    {
     "name": "stdout",
     "output_type": "stream",
     "text": [
      "The total is: 19\n"
     ]
    }
   ],
   "source": [
    "nbr = int(input(\"Enter a number: \"))\n",
    "total = 0\n",
    "while nbr!=0:\n",
    "    total += nbr\n",
    "    nbr = int(input('Enter a number: '))\n",
    "print(f\"The total is: {total}\")"
   ]
  },
  {
   "cell_type": "code",
   "execution_count": 5,
   "id": "6717c063-9abd-414b-a205-b684a951d6df",
   "metadata": {},
   "outputs": [
    {
     "name": "stdin",
     "output_type": "stream",
     "text": [
      "Enter your name:  Rebecca\n"
     ]
    },
    {
     "name": "stdout",
     "output_type": "stream",
     "text": [
      "Hi Rebecca\n"
     ]
    },
    {
     "name": "stdin",
     "output_type": "stream",
     "text": [
      "Enter your name:  Sylvie\n"
     ]
    },
    {
     "name": "stdout",
     "output_type": "stream",
     "text": [
      "Hi Sylvie\n"
     ]
    },
    {
     "name": "stdin",
     "output_type": "stream",
     "text": [
      "Enter your name:  Esther\n"
     ]
    },
    {
     "name": "stdout",
     "output_type": "stream",
     "text": [
      "Hi Esther\n"
     ]
    },
    {
     "name": "stdin",
     "output_type": "stream",
     "text": [
      "Enter your name:  Kevin\n"
     ]
    },
    {
     "name": "stdout",
     "output_type": "stream",
     "text": [
      "Hi Kevin\n"
     ]
    },
    {
     "name": "stdin",
     "output_type": "stream",
     "text": [
      "Enter your name:  stop\n"
     ]
    },
    {
     "name": "stdout",
     "output_type": "stream",
     "text": [
      "The loop is ended\n"
     ]
    }
   ],
   "source": [
    "while True:\n",
    "    name = input(\"Enter your name: \")\n",
    "    if name == 'stop':\n",
    "        print(\"The loop is ended\")\n",
    "        break\n",
    "\n",
    "    print(f\"Hi {name}\")"
   ]
  },
  {
   "cell_type": "markdown",
   "id": "25e245a4-d8e1-4edd-9158-0c7467ff49cb",
   "metadata": {},
   "source": [
    "BREAK AND CONTINUE STATEMENTS\n"
   ]
  },
  {
   "cell_type": "code",
   "execution_count": 1,
   "id": "12b151b5-8db0-4ce0-af51-94745ae8b285",
   "metadata": {},
   "outputs": [
    {
     "name": "stdout",
     "output_type": "stream",
     "text": [
      "0\n",
      "1\n",
      "2\n",
      "3\n",
      "4\n",
      "5\n",
      "6\n",
      "7\n"
     ]
    }
   ],
   "source": [
    "values = range(0,10)\n",
    "for value in values:\n",
    "    if value ==8:\n",
    "        break\n",
    "    print(value)"
   ]
  },
  {
   "cell_type": "code",
   "execution_count": 2,
   "id": "ccf19afd-c563-4b83-a6b9-f26c251ae406",
   "metadata": {},
   "outputs": [
    {
     "name": "stdout",
     "output_type": "stream",
     "text": [
      "0\n",
      "1\n",
      "2\n",
      "3\n",
      "4\n",
      "5\n",
      "6\n",
      "7\n",
      "9\n"
     ]
    }
   ],
   "source": [
    "values = range(0,10)\n",
    "for value in values:\n",
    "    if value ==8:\n",
    "        continue\n",
    "    print(value)"
   ]
  },
  {
   "cell_type": "code",
   "execution_count": 3,
   "id": "a01db48a-a04c-4098-884e-361e6b454b03",
   "metadata": {},
   "outputs": [
    {
     "name": "stdout",
     "output_type": "stream",
     "text": [
      "Hello\n"
     ]
    }
   ],
   "source": [
    "n = 10\n",
    "\n",
    "# use pass inside if statement\n",
    "if n > 10:\n",
    "    pass\n",
    "\n",
    "print('Hello')"
   ]
  },
  {
   "cell_type": "code",
   "execution_count": 4,
   "id": "77401203-6738-4173-aa0c-7be55438b431",
   "metadata": {},
   "outputs": [
    {
     "name": "stdout",
     "output_type": "stream",
     "text": [
      "0\n",
      "1\n",
      "2\n",
      "4\n"
     ]
    }
   ],
   "source": [
    "for i in range(5):\n",
    "    if i == 3:\n",
    "        pass  # This does nothing when i is 3\n",
    "    else:\n",
    "        print(i)"
   ]
  },
  {
   "cell_type": "markdown",
   "id": "a0c88288-2c2d-4e0d-a186-f00be826871e",
   "metadata": {},
   "source": [
    "DATATYPES"
   ]
  },
  {
   "cell_type": "code",
   "execution_count": 10,
   "id": "48e1fd3c-1573-447f-8c2f-2ac49620fa88",
   "metadata": {},
   "outputs": [
    {
     "name": "stdout",
     "output_type": "stream",
     "text": [
      "5.6 is of type <class 'float'>\n",
      "5.6 is of type <class 'int'>\n",
      "5.6 is of type <class 'complex'>\n"
     ]
    }
   ],
   "source": [
    "#We can use the type() function to know which class a variable or a value belongs to\n",
    "nbr1= 5.6\n",
    "print(nbr1, \"is of type\", type(nbr1))\n",
    "nbr2= 19\n",
    "print(nbr1, \"is of type\", type(nbr2))\n",
    "nbr3= 5+3j\n",
    "print(nbr1, \"is of type\", type(nbr3))"
   ]
  },
  {
   "cell_type": "markdown",
   "id": "856734ca-8ef4-44be-b277-feda5abc47cd",
   "metadata": {},
   "source": [
    "TYPE CONVERSION"
   ]
  },
  {
   "cell_type": "code",
   "execution_count": 12,
   "id": "67dedd3b-1d01-4799-9537-22433ac8881b",
   "metadata": {},
   "outputs": [
    {
     "name": "stdout",
     "output_type": "stream",
     "text": [
      "5\n"
     ]
    }
   ],
   "source": [
    "nbr1= int(5.6)\n",
    "print(nbr1)"
   ]
  },
  {
   "cell_type": "markdown",
   "id": "9a94d31f-b615-41b5-940f-bc2fdabbfd91",
   "metadata": {},
   "source": [
    "RANDOM MODULE"
   ]
  },
  {
   "cell_type": "code",
   "execution_count": 15,
   "id": "6c5a7f04-fc77-4f71-8015-f39b821aae70",
   "metadata": {},
   "outputs": [
    {
     "name": "stdout",
     "output_type": "stream",
     "text": [
      "2\n"
     ]
    }
   ],
   "source": [
    "import random\n",
    "print(random.randrange(0,10))"
   ]
  },
  {
   "cell_type": "code",
   "execution_count": 18,
   "id": "7dacc078-2858-46fc-84d3-ae5a127a2c8e",
   "metadata": {},
   "outputs": [
    {
     "name": "stdout",
     "output_type": "stream",
     "text": [
      "['y', 't', 'r', 'w', 'e']\n"
     ]
    }
   ],
   "source": [
    "list =['w','e','r','t','y']\n",
    "random.shuffle(list)\n",
    "print(list)"
   ]
  },
  {
   "cell_type": "code",
   "execution_count": 19,
   "id": "1b62f54a-6017-4efe-8cb0-db6d8038f9ac",
   "metadata": {},
   "outputs": [
    {
     "name": "stdout",
     "output_type": "stream",
     "text": [
      "0.8519146109724876\n"
     ]
    }
   ],
   "source": [
    "print(random.random())"
   ]
  },
  {
   "cell_type": "code",
   "execution_count": 20,
   "id": "a714093e-7dfb-443f-adc0-693857d26141",
   "metadata": {},
   "outputs": [
    {
     "name": "stdout",
     "output_type": "stream",
     "text": [
      "3.141592653589793\n",
      "-1.0\n",
      "148.4131591025766\n",
      "0.3010299956639812\n",
      "6.102016471589204e+38\n",
      "3628800\n"
     ]
    }
   ],
   "source": [
    "import math\n",
    "\n",
    "print(math.pi)\n",
    "\n",
    "print(math.cos(math.pi))\n",
    "\n",
    "print(math.exp(5))\n",
    "\n",
    "print(math.log10(2))\n",
    "\n",
    "print(math.sinh(90))\n",
    "\n",
    "print(math.factorial(10))"
   ]
  },
  {
   "cell_type": "markdown",
   "id": "d2455b7f-116c-4cfd-9d36-319c6874af50",
   "metadata": {},
   "source": [
    "PYTHON LIST"
   ]
  },
  {
   "cell_type": "code",
   "execution_count": 21,
   "id": "988a343b-6e99-4c6b-8b4c-f4012cc18354",
   "metadata": {},
   "outputs": [
    {
     "name": "stdout",
     "output_type": "stream",
     "text": [
      "['Esther', 'Faela', 'Honore', 'Josh']\n"
     ]
    }
   ],
   "source": [
    "names = ['Esther','Faela','Honore','Josh']\n",
    "print(names)"
   ]
  },
  {
   "cell_type": "code",
   "execution_count": 24,
   "id": "3ff3736a-9155-4899-8ac8-b3da257b15fd",
   "metadata": {},
   "outputs": [
    {
     "name": "stdout",
     "output_type": "stream",
     "text": [
      "Josh\n",
      "Esther\n",
      "Honore\n"
     ]
    }
   ],
   "source": [
    "print(names[-1])\n",
    "print(names[0])\n",
    "print(names[2])"
   ]
  },
  {
   "cell_type": "code",
   "execution_count": 27,
   "id": "8ea616a4-b56d-45f8-89fe-9f7d88393118",
   "metadata": {},
   "outputs": [
    {
     "name": "stdout",
     "output_type": "stream",
     "text": [
      "['Esther', 'Faela', 'Honore', 'Josh', 'Kevin']\n"
     ]
    }
   ],
   "source": [
    "#Adding items to the list\n",
    "names.append('Kevin')\n",
    "print(names)"
   ]
  },
  {
   "cell_type": "code",
   "execution_count": 28,
   "id": "eb401fc0-3153-4bb8-bb16-4239e342e93c",
   "metadata": {},
   "outputs": [
    {
     "name": "stdout",
     "output_type": "stream",
     "text": [
      "['Esther', 'Faela', 'Sylvie', 'Honore', 'Josh', 'Kevin']\n"
     ]
    }
   ],
   "source": [
    "#use insert to add an item to the list at a certain position\n",
    "names.insert(2,'Sylvie')\n",
    "print(names)"
   ]
  },
  {
   "cell_type": "code",
   "execution_count": 32,
   "id": "f78d1be0-2899-4415-861b-bd0ccc5e1dae",
   "metadata": {},
   "outputs": [
    {
     "data": {
      "text/plain": [
       "[1, 3, 5, 7]"
      ]
     },
     "execution_count": 32,
     "metadata": {},
     "output_type": "execute_result"
    }
   ],
   "source": [
    "nbr = [1,3,5,7]\n",
    "even_nbrs=[2,4]\n",
    "nbr"
   ]
  },
  {
   "cell_type": "code",
   "execution_count": 33,
   "id": "43936290-78ef-49f3-9f75-52794a3cdef5",
   "metadata": {},
   "outputs": [
    {
     "data": {
      "text/plain": [
       "[1, 3, 5, 7, 2, 4]"
      ]
     },
     "execution_count": 33,
     "metadata": {},
     "output_type": "execute_result"
    }
   ],
   "source": [
    "nbr.extend(even_nbrs)\n",
    "nbr"
   ]
  },
  {
   "cell_type": "code",
   "execution_count": 34,
   "id": "aaacd2f2-9091-4ba8-b4bc-a392241c4735",
   "metadata": {},
   "outputs": [
    {
     "name": "stdout",
     "output_type": "stream",
     "text": [
      "['Esther', 'Faela', 'Bryan', 'Honore', 'Josh', 'Kevin']\n"
     ]
    }
   ],
   "source": [
    "#changing list items\n",
    "names[2] = 'Bryan'\n",
    "print(names)"
   ]
  },
  {
   "cell_type": "code",
   "execution_count": 35,
   "id": "cb78c1f1-eb11-4650-84a6-96cca725e5a7",
   "metadata": {},
   "outputs": [
    {
     "name": "stdout",
     "output_type": "stream",
     "text": [
      "['Esther', 'Faela', 'Bryan', 'Josh', 'Kevin']\n"
     ]
    }
   ],
   "source": [
    "#Removing an item from the list\n",
    "names.remove('Honore')\n",
    "print(names)"
   ]
  },
  {
   "cell_type": "code",
   "execution_count": 38,
   "id": "ad35c0d4-c0d6-4f16-ba3f-d4d65d34a26c",
   "metadata": {},
   "outputs": [
    {
     "data": {
      "text/plain": [
       "5"
      ]
     },
     "execution_count": 38,
     "metadata": {},
     "output_type": "execute_result"
    }
   ],
   "source": [
    "#length of a list\n",
    "len(names)"
   ]
  },
  {
   "cell_type": "code",
   "execution_count": 39,
   "id": "e9911ffe-6677-4d01-a020-84579849da47",
   "metadata": {},
   "outputs": [
    {
     "name": "stdout",
     "output_type": "stream",
     "text": [
      "Esther\n",
      "Faela\n",
      "Bryan\n",
      "Josh\n",
      "Kevin\n"
     ]
    }
   ],
   "source": [
    "for name in names:\n",
    "    print(name)"
   ]
  },
  {
   "cell_type": "code",
   "execution_count": 42,
   "id": "7bb44a06-9d46-4ad5-9663-d0a4c88cf509",
   "metadata": {},
   "outputs": [
    {
     "data": {
      "text/plain": [
       "3"
      ]
     },
     "execution_count": 42,
     "metadata": {},
     "output_type": "execute_result"
    }
   ],
   "source": [
    "#check the index of a given item\n",
    "names.index('Josh')"
   ]
  },
  {
   "cell_type": "code",
   "execution_count": 43,
   "id": "0cea17d4-cc8d-4971-8fd9-90ab9510717f",
   "metadata": {},
   "outputs": [
    {
     "name": "stdout",
     "output_type": "stream",
     "text": [
      "['Esther', 'Faela', 'Bryan', 'Josh', 'Kevin', 'Josh']\n"
     ]
    }
   ],
   "source": [
    "names.append('Josh')\n",
    "print(names)"
   ]
  },
  {
   "cell_type": "code",
   "execution_count": 45,
   "id": "8f26c543-aec9-44d9-8428-66086d8a1a27",
   "metadata": {},
   "outputs": [
    {
     "data": {
      "text/plain": [
       "2"
      ]
     },
     "execution_count": 45,
     "metadata": {},
     "output_type": "execute_result"
    }
   ],
   "source": [
    "#how many times an item appears in the list\n",
    "names.count('Josh')"
   ]
  },
  {
   "cell_type": "code",
   "execution_count": 46,
   "id": "d6c94ede-189d-422a-a883-25cf53afa918",
   "metadata": {},
   "outputs": [
    {
     "data": {
      "text/plain": [
       "['Bryan', 'Esther', 'Faela', 'Josh', 'Josh', 'Kevin']"
      ]
     },
     "execution_count": 46,
     "metadata": {},
     "output_type": "execute_result"
    }
   ],
   "source": [
    "#sorts the list in ascending order\n",
    "names.sort()\n",
    "names"
   ]
  },
  {
   "cell_type": "code",
   "execution_count": 47,
   "id": "e5d9c94f-f99b-48ac-b2a0-e7b7b6fa7231",
   "metadata": {},
   "outputs": [
    {
     "data": {
      "text/plain": [
       "['Kevin', 'Josh', 'Josh', 'Faela', 'Esther', 'Bryan']"
      ]
     },
     "execution_count": 47,
     "metadata": {},
     "output_type": "execute_result"
    }
   ],
   "source": [
    "#Reverses the list\n",
    "names.reverse()\n",
    "names"
   ]
  },
  {
   "cell_type": "code",
   "execution_count": 49,
   "id": "4e55fa70-0cdf-4d45-852e-bc7d7299e658",
   "metadata": {},
   "outputs": [
    {
     "data": {
      "text/plain": [
       "['Kevin', 'Josh', 'Josh', 'Faela', 'Esther']"
      ]
     },
     "execution_count": 49,
     "metadata": {},
     "output_type": "execute_result"
    }
   ],
   "source": [
    "names.pop(-1)\n",
    "names"
   ]
  },
  {
   "cell_type": "code",
   "execution_count": 53,
   "id": "1d0a3958-d6c2-42ee-95c6-f43524ca7373",
   "metadata": {},
   "outputs": [
    {
     "data": {
      "text/plain": [
       "True"
      ]
     },
     "execution_count": 53,
     "metadata": {},
     "output_type": "execute_result"
    }
   ],
   "source": [
    "#check for item existence\n",
    "'Faela' in names"
   ]
  },
  {
   "cell_type": "markdown",
   "id": "7cde9f09-bcff-46f0-87fb-4cf0e238fd2b",
   "metadata": {},
   "source": [
    "LIST COMPREHENSION"
   ]
  },
  {
   "cell_type": "code",
   "execution_count": 50,
   "id": "c01a585e-50d7-48e7-83bd-19ecdb757b08",
   "metadata": {},
   "outputs": [
    {
     "data": {
      "text/plain": [
       "[0, 1, 4, 9, 16, 25, 36, 49, 64, 81]"
      ]
     },
     "execution_count": 50,
     "metadata": {},
     "output_type": "execute_result"
    }
   ],
   "source": [
    "sqr = [nbr**2 for nbr in range(0,10)]\n",
    "sqr"
   ]
  },
  {
   "cell_type": "markdown",
   "id": "e9a2da4a-4f72-48c3-b88c-43214f3c869d",
   "metadata": {},
   "source": [
    "TUPLES"
   ]
  },
  {
   "cell_type": "code",
   "execution_count": 55,
   "id": "cc845618-e279-490d-b088-c9582421e0c6",
   "metadata": {},
   "outputs": [
    {
     "data": {
      "text/plain": [
       "(2, 1, 4, 7, 8, 9)"
      ]
     },
     "execution_count": 55,
     "metadata": {},
     "output_type": "execute_result"
    }
   ],
   "source": [
    "#It is in paranthesis\n",
    "nbrs =(2,1,4,7,8,9)\n",
    "nbrs"
   ]
  },
  {
   "cell_type": "code",
   "execution_count": 56,
   "id": "1a7e3eac-73cd-4b5a-9f82-15cd2e96b87e",
   "metadata": {},
   "outputs": [
    {
     "data": {
      "text/plain": [
       "(2, 4, 6, 7)"
      ]
     },
     "execution_count": 56,
     "metadata": {},
     "output_type": "execute_result"
    }
   ],
   "source": [
    "#tuple() constructor to create tuples\n",
    "nbrs = tuple((2,4,6,7))\n",
    "nbrs"
   ]
  },
  {
   "cell_type": "code",
   "execution_count": 58,
   "id": "836fe42a-be7c-42d3-b103-57857c57c0d4",
   "metadata": {},
   "outputs": [
    {
     "name": "stdout",
     "output_type": "stream",
     "text": [
      "(3, 5, 7, 9)\n",
      "('Kevin', 'Josh', 'Faela')\n",
      "('Kevin', 2, 5, 'Josh', 'Faela')\n"
     ]
    }
   ],
   "source": [
    "#tuple of different datatypes\n",
    "nbrs = (3,5,7,9)\n",
    "names = ('Kevin', 'Josh', 'Faela')\n",
    "mixed = ('Kevin', 2, 5 ,'Josh', 'Faela')\n",
    "print(nbrs)\n",
    "print(names)\n",
    "print(mixed)"
   ]
  },
  {
   "cell_type": "code",
   "execution_count": 69,
   "id": "68802ec6-6076-40bc-a616-4bcf7176d3b5",
   "metadata": {},
   "outputs": [
    {
     "data": {
      "text/plain": [
       "'Kevin'"
      ]
     },
     "execution_count": 69,
     "metadata": {},
     "output_type": "execute_result"
    }
   ],
   "source": [
    "#accessing items\n",
    "names = ('Kevin', 'Josh', 'Faela')\n",
    "names[0]"
   ]
  },
  {
   "cell_type": "code",
   "execution_count": 70,
   "id": "16a62f44-6ec7-446e-98e2-ca1956fc2229",
   "metadata": {},
   "outputs": [
    {
     "ename": "TypeError",
     "evalue": "'tuple' object does not support item assignment",
     "output_type": "error",
     "traceback": [
      "\u001b[1;31m---------------------------------------------------------------------------\u001b[0m",
      "\u001b[1;31mTypeError\u001b[0m                                 Traceback (most recent call last)",
      "Cell \u001b[1;32mIn[70], line 2\u001b[0m\n\u001b[0;32m      1\u001b[0m \u001b[38;5;66;03m#tuples can not be modified\u001b[39;00m\n\u001b[1;32m----> 2\u001b[0m \u001b[43mnames\u001b[49m\u001b[43m[\u001b[49m\u001b[38;5;241;43m1\u001b[39;49m\u001b[43m]\u001b[49m \u001b[38;5;241m=\u001b[39m \u001b[38;5;124m'\u001b[39m\u001b[38;5;124mBryan\u001b[39m\u001b[38;5;124m'\u001b[39m\n\u001b[0;32m      3\u001b[0m names\n",
      "\u001b[1;31mTypeError\u001b[0m: 'tuple' object does not support item assignment"
     ]
    }
   ],
   "source": [
    "#tuples can not be modified\n",
    "names[1] = 'Bryan'\n",
    "names"
   ]
  },
  {
   "cell_type": "code",
   "execution_count": 71,
   "id": "a9b33a05-57c9-46f7-a1e7-4221ab44fba0",
   "metadata": {},
   "outputs": [
    {
     "data": {
      "text/plain": [
       "3"
      ]
     },
     "execution_count": 71,
     "metadata": {},
     "output_type": "execute_result"
    }
   ],
   "source": [
    "#length of a tuple\n",
    "len(names)"
   ]
  },
  {
   "cell_type": "code",
   "execution_count": 72,
   "id": "5a19c684-2d1d-44bd-9c2c-ad937e21e97c",
   "metadata": {},
   "outputs": [
    {
     "name": "stdout",
     "output_type": "stream",
     "text": [
      "Kevin\n",
      "Josh\n",
      "Faela\n"
     ]
    }
   ],
   "source": [
    "#items in a tuple\n",
    "for name in names:\n",
    "    print(name)"
   ]
  },
  {
   "cell_type": "code",
   "execution_count": 67,
   "id": "1872aef6-af86-4326-aa4c-4d7c3d690d61",
   "metadata": {},
   "outputs": [
    {
     "data": {
      "text/plain": [
       "'Good morning'"
      ]
     },
     "execution_count": 67,
     "metadata": {},
     "output_type": "execute_result"
    }
   ],
   "source": [
    "#single item tuple creation with no comma is a simple variable\n",
    "greet= ('Good morning')\n",
    "greet"
   ]
  },
  {
   "cell_type": "code",
   "execution_count": 68,
   "id": "472f3be6-49d7-450d-a339-eee5f3c8151f",
   "metadata": {},
   "outputs": [
    {
     "data": {
      "text/plain": [
       "('Good morning',)"
      ]
     },
     "execution_count": 68,
     "metadata": {},
     "output_type": "execute_result"
    }
   ],
   "source": [
    "#single item tuple add a comma afterwards\n",
    "greet= ('Good morning',)\n",
    "greet"
   ]
  },
  {
   "cell_type": "markdown",
   "id": "1766d110-6df5-4a69-8e86-96e9700a2164",
   "metadata": {},
   "source": [
    "SETS"
   ]
  },
  {
   "cell_type": "code",
   "execution_count": 77,
   "id": "5399538c-51e1-46ec-8d78-811373a5ec16",
   "metadata": {},
   "outputs": [
    {
     "data": {
      "text/plain": [
       "{2, 4, 5, 6, 7, 9}"
      ]
     },
     "execution_count": 77,
     "metadata": {},
     "output_type": "execute_result"
    }
   ],
   "source": [
    "#Adding items to a set\n",
    "set = {2,4,5,6,9}\n",
    "set.add(7)\n",
    "set"
   ]
  },
  {
   "cell_type": "code",
   "execution_count": 86,
   "id": "4db9a7a0-ddb9-4c2f-b035-9d2a6dc24566",
   "metadata": {},
   "outputs": [
    {
     "data": {
      "text/plain": [
       "{1, 2, 3, 4, 6, 7, 9, 10}"
      ]
     },
     "execution_count": 86,
     "metadata": {},
     "output_type": "execute_result"
    }
   ],
   "source": [
    "#updating python set\n",
    "new_set = [1,3,10]\n",
    "set.update(new_set)\n",
    "set"
   ]
  },
  {
   "cell_type": "code",
   "execution_count": 91,
   "id": "bff1fd6d-2161-41a2-9ab7-f5c48aa81df1",
   "metadata": {},
   "outputs": [
    {
     "name": "stdout",
     "output_type": "stream",
     "text": [
      "10\n",
      "1\n",
      "42\n",
      "[1, 2, 3, 4, 6, 7, 9, 10]\n",
      "<enumerate object at 0x0000024AD56701D0>\n"
     ]
    }
   ],
   "source": [
    "#use discard to remove element from a set\n",
    "set.discard(5)\n",
    "print(max(set))\n",
    "print(min(set))\n",
    "print(sum(set))\n",
    "print(sorted(set))\n",
    "print(enumerate(set))"
   ]
  },
  {
   "cell_type": "code",
   "execution_count": 81,
   "id": "0fb6214d-1cbf-4b71-a23f-5c3c38aa9591",
   "metadata": {},
   "outputs": [
    {
     "data": {
      "text/plain": [
       "{'Faela', 'Kevin'}"
      ]
     },
     "execution_count": 81,
     "metadata": {},
     "output_type": "execute_result"
    }
   ],
   "source": [
    "names = {'Kevin', 'Josh', 'Faela'}\n",
    "names.discard('Josh')\n",
    "names"
   ]
  },
  {
   "cell_type": "code",
   "execution_count": 92,
   "id": "387a1d21-4820-465f-bb75-d25831afd6b4",
   "metadata": {},
   "outputs": [
    {
     "name": "stdout",
     "output_type": "stream",
     "text": [
      "{2, 3, 4, 5, 7, 9}\n",
      "{2, 3, 4, 5, 7, 9}\n"
     ]
    }
   ],
   "source": [
    "#union of a set\n",
    "A = {2,3,4,5}\n",
    "B={3,5,7,9}\n",
    "print(A|B)\n",
    "print(A.union(B))"
   ]
  },
  {
   "cell_type": "code",
   "execution_count": 95,
   "id": "e08dfd42-0e20-4c04-80b9-8625a35fd7b8",
   "metadata": {},
   "outputs": [
    {
     "name": "stdout",
     "output_type": "stream",
     "text": [
      "{3, 5}\n",
      "{3, 5}\n"
     ]
    }
   ],
   "source": [
    "#intersection\n",
    "print(A&B)\n",
    "print(A.intersection(B))"
   ]
  },
  {
   "cell_type": "code",
   "execution_count": 97,
   "id": "8fab6681-1f35-4952-bb47-295287e4c254",
   "metadata": {},
   "outputs": [
    {
     "name": "stdout",
     "output_type": "stream",
     "text": [
      "{2, 4}\n",
      "{2, 4}\n",
      "{9, 7}\n",
      "{9, 7}\n"
     ]
    }
   ],
   "source": [
    "#difference between sets\n",
    "print(A-B)\n",
    "print(A.difference(B))\n",
    "print(B-A)\n",
    "print(B.difference(A))"
   ]
  },
  {
   "cell_type": "code",
   "execution_count": 98,
   "id": "1f58961d-e0cd-4ba9-8a6a-cf97c8f4b743",
   "metadata": {},
   "outputs": [
    {
     "name": "stdout",
     "output_type": "stream",
     "text": [
      "{2, 4, 7, 9}\n",
      "{2, 4, 7, 9}\n"
     ]
    }
   ],
   "source": [
    "#symmetric_difference()\n",
    "print( A ^ B)\n",
    "print(A.symmetric_difference(B)) "
   ]
  },
  {
   "cell_type": "code",
   "execution_count": 99,
   "id": "20ed692b-46c3-4029-ba43-de856b8e7630",
   "metadata": {},
   "outputs": [
    {
     "name": "stdout",
     "output_type": "stream",
     "text": [
      "Set A and Set B are not equal\n"
     ]
    }
   ],
   "source": [
    "#check if two sets are equal\n",
    "if A == B:\n",
    "    print('Set A and Set B are equal')\n",
    "else:\n",
    "    print('Set A and Set B are not equal')"
   ]
  },
  {
   "cell_type": "code",
   "execution_count": 101,
   "id": "90b72257-76ca-4dbc-8592-c2efd47a7cc4",
   "metadata": {},
   "outputs": [
    {
     "name": "stdout",
     "output_type": "stream",
     "text": [
      "None\n"
     ]
    }
   ],
   "source": [
    "print(A.intersection_update(B))"
   ]
  },
  {
   "cell_type": "markdown",
   "id": "f9ea735b-4688-4883-ba18-927a26a2fca5",
   "metadata": {},
   "source": [
    "DICTIONARIES"
   ]
  },
  {
   "cell_type": "code",
   "execution_count": 115,
   "id": "92aa97c7-e071-45ad-9a28-cca9eb175263",
   "metadata": {},
   "outputs": [
    {
     "name": "stdout",
     "output_type": "stream",
     "text": [
      "{'Jireh': ['Maverick city', 'Elevation worship'], 'Oceans': 'Hillsong', 'Excess love': 'Mercy'}\n"
     ]
    }
   ],
   "source": [
    "song_singer = {\n",
    "    'Jireh': ['Maverick city','Elevation worship'],\n",
    "    'Oceans': 'Hillsong',\n",
    "    'Excess love':'Mercy'\n",
    "\n",
    "}\n",
    "print(song_singer)"
   ]
  },
  {
   "cell_type": "code",
   "execution_count": 116,
   "id": "878c9e91-2a90-481c-af85-537564a75842",
   "metadata": {},
   "outputs": [
    {
     "data": {
      "text/plain": [
       "['Maverick city', 'Elevation worship']"
      ]
     },
     "execution_count": 116,
     "metadata": {},
     "output_type": "execute_result"
    }
   ],
   "source": [
    "song_singer['Jireh']"
   ]
  },
  {
   "cell_type": "code",
   "execution_count": 117,
   "id": "38b36750-c505-435a-89ac-47c44a835973",
   "metadata": {},
   "outputs": [
    {
     "data": {
      "text/plain": [
       "{'Jireh': ['Maverick city', 'Elevation worship'],\n",
       " 'Oceans': 'Hillsong',\n",
       " 'Excess love': 'Mercy',\n",
       " 'Holy Forever': 'Cece Williams'}"
      ]
     },
     "execution_count": 117,
     "metadata": {},
     "output_type": "execute_result"
    }
   ],
   "source": [
    "song_singer['Holy Forever'] = 'Cece Williams'\n",
    "song_singer"
   ]
  },
  {
   "cell_type": "code",
   "execution_count": 118,
   "id": "261dd45f-828c-481d-a0bf-eef1657c40bf",
   "metadata": {},
   "outputs": [
    {
     "name": "stdout",
     "output_type": "stream",
     "text": [
      "{'Jireh': ['Maverick city', 'Elevation worship'], 'Oceans': 'Hillsong', 'Excess love': 'Mercy'}\n"
     ]
    }
   ],
   "source": [
    "del song_singer['Holy Forever']\n",
    "print(song_singer)"
   ]
  },
  {
   "cell_type": "code",
   "execution_count": 120,
   "id": "a7a58024-4786-47b2-b52f-15458ec346d0",
   "metadata": {},
   "outputs": [
    {
     "data": {
      "text/plain": [
       "{}"
      ]
     },
     "execution_count": 120,
     "metadata": {},
     "output_type": "execute_result"
    }
   ],
   "source": [
    "song_singer.clear()\n",
    "song_singer"
   ]
  },
  {
   "cell_type": "code",
   "execution_count": 121,
   "id": "98cf3b79-bb25-4802-9037-16d998becc49",
   "metadata": {},
   "outputs": [
    {
     "name": "stdout",
     "output_type": "stream",
     "text": [
      "{'Jireh': ['Maverick city', 'Elevation worship'], 'Oceans': 'Hillsong', 'Excess love': 'Mercy'}\n"
     ]
    }
   ],
   "source": [
    "song_singer = {\n",
    "    'Jireh': ['Maverick city','Elevation worship'],\n",
    "    'Oceans': 'Hillsong',\n",
    "    'Excess love':'Mercy'\n",
    "}\n",
    "print(song_singer)"
   ]
  },
  {
   "cell_type": "code",
   "execution_count": 122,
   "id": "91f24dfc-591c-4c90-ad7b-bf6f760bd045",
   "metadata": {},
   "outputs": [
    {
     "data": {
      "text/plain": [
       "{'Jireh': ['Maverick city', 'Elevation worship'],\n",
       " 'Oceans': 'Hillsong',\n",
       " 'Excess love': 'Osby Berry'}"
      ]
     },
     "execution_count": 122,
     "metadata": {},
     "output_type": "execute_result"
    }
   ],
   "source": [
    "song_singer['Excess love'] = 'Osby Berry'\n",
    "song_singer"
   ]
  },
  {
   "cell_type": "code",
   "execution_count": 127,
   "id": "155c21be-7ee0-4dd8-93a1-34551cf6d355",
   "metadata": {},
   "outputs": [
    {
     "name": "stdout",
     "output_type": "stream",
     "text": [
      "Jireh is sung by ['Maverick city', 'Elevation worship']\n",
      "Oceans is sung by Hillsong\n",
      "Excess love is sung by Osby Berry\n"
     ]
    }
   ],
   "source": [
    "for song, writer in song_singer.items():\n",
    "    print (song, 'is sung by', writer)"
   ]
  },
  {
   "cell_type": "code",
   "execution_count": 133,
   "id": "52efc3b9-6dec-45f5-a87f-3fdeda55d50f",
   "metadata": {},
   "outputs": [
    {
     "name": "stdout",
     "output_type": "stream",
     "text": [
      "dict_keys(['Jireh', 'Oceans', 'Excess love'])\n",
      "dict_values([['Maverick city', 'Elevation worship'], 'Hillsong', 'Osby Berry'])\n"
     ]
    }
   ],
   "source": [
    "print(song_singer.keys())\n",
    "print(song_singer.values())\n"
   ]
  },
  {
   "cell_type": "code",
   "execution_count": null,
   "id": "83dabbab-e7d3-4d80-a086-6e39b1e3af3b",
   "metadata": {},
   "outputs": [],
   "source": []
  }
 ],
 "metadata": {
  "kernelspec": {
   "display_name": "Python 3 (ipykernel)",
   "language": "python",
   "name": "python3"
  },
  "language_info": {
   "codemirror_mode": {
    "name": "ipython",
    "version": 3
   },
   "file_extension": ".py",
   "mimetype": "text/x-python",
   "name": "python",
   "nbconvert_exporter": "python",
   "pygments_lexer": "ipython3",
   "version": "3.11.5"
  }
 },
 "nbformat": 4,
 "nbformat_minor": 5
}
